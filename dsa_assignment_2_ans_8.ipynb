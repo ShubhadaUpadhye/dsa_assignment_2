{
 "cells": [
  {
   "cell_type": "code",
   "execution_count": 1,
   "metadata": {},
   "outputs": [
    {
     "name": "stdout",
     "output_type": "stream",
     "text": [
      "enter elements of  array1 2 3 4  6 4\n",
      "[4, 5]\n"
     ]
    }
   ],
   "source": [
    "## ans_8)\n",
    "nums=[1]\n",
    "k=0\n",
    "\n",
    "for i in range(len(nums)):\n",
    "    nums[i]=nums[i]+k\n",
    "print(max(nums)-min(nums))\n",
    "\n",
    "## time_complexity is O(n)"
   ]
  }
 ],
 "metadata": {
  "kernelspec": {
   "display_name": "Python 3",
   "language": "python",
   "name": "python3"
  },
  "language_info": {
   "codemirror_mode": {
    "name": "ipython",
    "version": 3
   },
   "file_extension": ".py",
   "mimetype": "text/x-python",
   "name": "python",
   "nbconvert_exporter": "python",
   "pygments_lexer": "ipython3",
   "version": "3.8.5"
  }
 },
 "nbformat": 4,
 "nbformat_minor": 4
}
