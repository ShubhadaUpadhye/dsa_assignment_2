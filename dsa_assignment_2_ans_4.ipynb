{
 "cells": [
  {
   "cell_type": "code",
   "execution_count": 1,
   "metadata": {},
   "outputs": [
    {
     "name": "stdout",
     "output_type": "stream",
     "text": [
      "enter elements of  array1 2 3 4  6 4\n",
      "[4, 5]\n"
     ]
    }
   ],
   "source": [
    "#ans 4)\n",
    "flowerbed = [1,0,0,0,1,0,0,0,1,1,1,0,0,0]\n",
    "sum=0\n",
    "for i in range(len(flowerbed)-1):\n",
    "    if flowerbed[i]==0 and flowerbed[i+1]==0 and flowerbed[i-1]==0:\n",
    "        flowerbed[i]=1\n",
    "        sum=sum+1\n",
    "if sum>0:\n",
    "    print(True)\n",
    "else:\n",
    "    print(False)\n",
    "\n",
    "## time complexity is O(n)"
   ]
  }
 ],
 "metadata": {
  "kernelspec": {
   "display_name": "Python 3",
   "language": "python",
   "name": "python3"
  },
  "language_info": {
   "codemirror_mode": {
    "name": "ipython",
    "version": 3
   },
   "file_extension": ".py",
   "mimetype": "text/x-python",
   "name": "python",
   "nbconvert_exporter": "python",
   "pygments_lexer": "ipython3",
   "version": "3.8.5"
  }
 },
 "nbformat": 4,
 "nbformat_minor": 4
}
