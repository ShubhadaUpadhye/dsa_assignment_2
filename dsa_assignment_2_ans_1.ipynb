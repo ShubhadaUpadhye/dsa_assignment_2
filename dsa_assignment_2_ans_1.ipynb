{
 "cells": [
  {
   "cell_type": "code",
   "execution_count": 1,
   "metadata": {},
   "outputs": [
    {
     "name": "stdout",
     "output_type": "stream",
     "text": [
      "enter elements of  array1 2 3 4  6 4\n",
      "[4, 5]\n"
     ]
    }
   ],
   "source": [
    "#### ans_1)\n",
    "nums = [9,7,8,2]\n",
    "nums_1=[]\n",
    "sum=[]\n",
    "i=0\n",
    "while i<len(nums)-1:\n",
    "    for j in range(len(nums)-i):\n",
    "        if nums[i]!=nums[i+j]:\n",
    "            nums_1.append((nums[i],nums[i+j]))\n",
    "    i=i+1\n",
    "#print(nums_1)\n",
    "for i in range(0,len(nums_1),2):\n",
    "    x=min(nums_1[i])\n",
    "    y=min(nums_1[i+1])\n",
    "    sum.append(x+y)\n",
    "#print(max(sum))\n",
    "\n",
    "## time complexity is O(n^2)"
   ]
  }
 ],
 "metadata": {
  "kernelspec": {
   "display_name": "Python 3",
   "language": "python",
   "name": "python3"
  },
  "language_info": {
   "codemirror_mode": {
    "name": "ipython",
    "version": 3
   },
   "file_extension": ".py",
   "mimetype": "text/x-python",
   "name": "python",
   "nbconvert_exporter": "python",
   "pygments_lexer": "ipython3",
   "version": "3.8.5"
  }
 },
 "nbformat": 4,
 "nbformat_minor": 4
}
