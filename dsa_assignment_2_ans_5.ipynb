{
 "cells": [
  {
   "cell_type": "code",
   "execution_count": 1,
   "metadata": {},
   "outputs": [
    {
     "name": "stdout",
     "output_type": "stream",
     "text": [
      "enter elements of  array1 2 3 4  6 4\n",
      "[4, 5]\n"
     ]
    }
   ],
   "source": [
    "# ans 5)\n",
    "nums = [4, 5, 7, 1, 2, 3, 9]\n",
    "for i in range(len(nums)):\n",
    "    for j in range(len(nums)-1):\n",
    "        if nums[j] > nums[j + 1]:\n",
    "            nums[j] = nums[j]\n",
    "        else:\n",
    "            temp = nums[j]\n",
    "            nums[j] = nums[j + 1]\n",
    "            nums[j + 1] = temp\n",
    "\n",
    "print(nums[0]*nums[1]*nums[2])\n",
    "\n",
    "## time complexity is O(n^2)"
   ]
  }
 ],
 "metadata": {
  "kernelspec": {
   "display_name": "Python 3",
   "language": "python",
   "name": "python3"
  },
  "language_info": {
   "codemirror_mode": {
    "name": "ipython",
    "version": 3
   },
   "file_extension": ".py",
   "mimetype": "text/x-python",
   "name": "python",
   "nbconvert_exporter": "python",
   "pygments_lexer": "ipython3",
   "version": "3.8.5"
  }
 },
 "nbformat": 4,
 "nbformat_minor": 4
}
