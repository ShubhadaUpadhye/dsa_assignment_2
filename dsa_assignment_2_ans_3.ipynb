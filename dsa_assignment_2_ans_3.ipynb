{
 "cells": [
  {
   "cell_type": "code",
   "execution_count": 1,
   "metadata": {},
   "outputs": [
    {
     "name": "stdout",
     "output_type": "stream",
     "text": [
      "enter elements of  array1 2 3 4  6 4\n",
      "[4, 5]\n"
     ]
    }
   ],
   "source": [
    "#ans_3)\n",
    "nums = [1,8,8,2,5,2,3,7]\n",
    "nums1=[]\n",
    "count=0\n",
    "for j in range(len(set(nums))):\n",
    "    if nums[j]-nums[j+1]==1 or nums[j]-nums[j+1]==-1:\n",
    "        nums1.append(nums[j])\n",
    "        nums1.append(nums[j+1]) \n",
    "for i in nums1:\n",
    "    count=nums.count(i)+count\n",
    "print(count)\n",
    "\n",
    "##time_complexity is O(n)"
   ]
  }
 ],
 "metadata": {
  "kernelspec": {
   "display_name": "Python 3",
   "language": "python",
   "name": "python3"
  },
  "language_info": {
   "codemirror_mode": {
    "name": "ipython",
    "version": 3
   },
   "file_extension": ".py",
   "mimetype": "text/x-python",
   "name": "python",
   "nbconvert_exporter": "python",
   "pygments_lexer": "ipython3",
   "version": "3.8.5"
  }
 },
 "nbformat": 4,
 "nbformat_minor": 4
}
