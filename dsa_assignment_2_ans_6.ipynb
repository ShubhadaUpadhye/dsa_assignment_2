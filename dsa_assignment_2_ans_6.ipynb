{
 "cells": [
  {
   "cell_type": "code",
   "execution_count": 1,
   "metadata": {},
   "outputs": [
    {
     "name": "stdout",
     "output_type": "stream",
     "text": [
      "enter elements of  array1 2 3 4  6 4\n",
      "[4, 5]\n"
     ]
    }
   ],
   "source": [
    "# ans 6)\n",
    "nums=[4,5,7,1,2,3,9]\n",
    "nums.sort()\n",
    "target =9\n",
    "\n",
    "left=nums[0]\n",
    "right=nums[-1]\n",
    "while left<right:\n",
    "    mid=(left+right)/2\n",
    "    if mid==target:\n",
    "        ind=nums.index(mid)\n",
    "        print(ind)\n",
    "    elif mid<right:\n",
    "        right=right-mid\n",
    "    else:\n",
    "        left=left+mid\n",
    "else:\n",
    "    print(-1)\n",
    "\n",
    "# time_complexity is O(log n)"
   ]
  }
 ],
 "metadata": {
  "kernelspec": {
   "display_name": "Python 3",
   "language": "python",
   "name": "python3"
  },
  "language_info": {
   "codemirror_mode": {
    "name": "ipython",
    "version": 3
   },
   "file_extension": ".py",
   "mimetype": "text/x-python",
   "name": "python",
   "nbconvert_exporter": "python",
   "pygments_lexer": "ipython3",
   "version": "3.8.5"
  }
 },
 "nbformat": 4,
 "nbformat_minor": 4
}
